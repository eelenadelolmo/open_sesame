{
  "nbformat": 4,
  "nbformat_minor": 0,
  "metadata": {
    "colab": {
      "name": "open_sesame.ipynb",
      "provenance": [],
      "collapsed_sections": []
    },
    "kernelspec": {
      "name": "python2",
      "display_name": "Python 2"
    },
    "accelerator": "GPU"
  },
  "cells": [
    {
      "cell_type": "code",
      "metadata": {
        "id": "s3LV2HMZsvDq",
        "colab_type": "code",
        "colab": {
          "base_uri": "https://localhost:8080/",
          "height": 156
        },
        "outputId": "52bc3574-b861-44f9-e3ff-17c082dd3940"
      },
      "source": [
        "!pip install dynet"
      ],
      "execution_count": 1,
      "outputs": [
        {
          "output_type": "stream",
          "text": [
            "Collecting dynet\n",
            "\u001b[?25l  Downloading https://files.pythonhosted.org/packages/65/2c/6b773466b4cca5092b3fac49969011a720e6ca7b01bcfd286ac412a62971/dyNET-2.1-cp27-cp27mu-manylinux1_x86_64.whl (27.9MB)\n",
            "\u001b[K     |████████████████████████████████| 27.9MB 124kB/s \n",
            "\u001b[?25hRequirement already satisfied: numpy in /usr/local/lib/python2.7/dist-packages (from dynet) (1.16.4)\n",
            "Requirement already satisfied: cython in /usr/local/lib/python2.7/dist-packages (from dynet) (0.29.12)\n",
            "Installing collected packages: dynet\n",
            "Successfully installed dynet-2.1\n"
          ],
          "name": "stdout"
        }
      ]
    },
    {
      "cell_type": "code",
      "metadata": {
        "id": "0igQvAq7ZYb1",
        "colab_type": "code",
        "colab": {}
      },
      "source": [
        "!sudo apt-get update\n",
        "!sudo apt-get install python-pip build-essential cmake mercurial"
      ],
      "execution_count": null,
      "outputs": []
    },
    {
      "cell_type": "code",
      "metadata": {
        "id": "27-yD3m3dGTE",
        "colab_type": "code",
        "colab": {
          "base_uri": "https://localhost:8080/",
          "height": 292
        },
        "outputId": "02ffb9fa-f7c9-4e38-d8e0-934d17d52822"
      },
      "source": [
        "!pip install git+https://github.com/clab/dynet#egg=dynet"
      ],
      "execution_count": 3,
      "outputs": [
        {
          "output_type": "stream",
          "text": [
            "Collecting dynet\n",
            "  Cloning https://github.com/clab/dynet to /tmp/pip-install-sKD6ED/dynet\n",
            "  Running command git clone -q https://github.com/clab/dynet /tmp/pip-install-sKD6ED/dynet\n",
            "  Installing build dependencies ... \u001b[?25l\u001b[?25hdone\n",
            "  Getting requirements to build wheel ... \u001b[?25l\u001b[?25hdone\n",
            "    Preparing wheel metadata ... \u001b[?25l\u001b[?25hdone\n",
            "Requirement already satisfied: numpy in /usr/local/lib/python2.7/dist-packages (from dynet) (1.16.4)\n",
            "Requirement already satisfied: cython in /usr/local/lib/python2.7/dist-packages (from dynet) (0.29.12)\n",
            "Building wheels for collected packages: dynet\n",
            "  Building wheel for dynet (PEP 517) ... \u001b[?25l\u001b[?25hdone\n",
            "  Created wheel for dynet: filename=dyNET-0.0.0-cp27-cp27mu-linux_x86_64.whl size=1155048 sha256=d0340b7cfcf13aa16f755113feb8455120b580c492cf7db42f103bc10e5a7c52\n",
            "  Stored in directory: /tmp/pip-ephem-wheel-cache-6c_YMj/wheels/9d/7c/54/a2d66acfb1330579b24afd1bb8bdadbb99c89a3379c274ff23\n",
            "Successfully built dynet\n",
            "Installing collected packages: dynet\n",
            "Successfully installed dynet-0.0.0\n"
          ],
          "name": "stdout"
        }
      ]
    },
    {
      "cell_type": "code",
      "metadata": {
        "id": "WX7pAyduuD04",
        "colab_type": "code",
        "colab": {
          "base_uri": "https://localhost:8080/",
          "height": 102
        },
        "outputId": "cda8813f-f149-4448-8d93-a6272c9aa68b"
      },
      "source": [
        "!python -m nltk.downloader averaged_perceptron_tagger wordnet"
      ],
      "execution_count": 2,
      "outputs": [
        {
          "output_type": "stream",
          "text": [
            "[nltk_data] Downloading package averaged_perceptron_tagger to\n",
            "[nltk_data]     /root/nltk_data...\n",
            "[nltk_data]   Unzipping taggers/averaged_perceptron_tagger.zip.\n",
            "[nltk_data] Downloading package wordnet to /root/nltk_data...\n",
            "[nltk_data]   Unzipping corpora/wordnet.zip.\n"
          ],
          "name": "stdout"
        }
      ]
    },
    {
      "cell_type": "code",
      "metadata": {
        "id": "XSKC5JXBuHsY",
        "colab_type": "code",
        "colab": {
          "base_uri": "https://localhost:8080/",
          "height": 136
        },
        "outputId": "08467129-9044-45d4-ec72-5d9bce9a4c16"
      },
      "source": [
        "!git clone https://github.com/swabhs/open-sesame.git"
      ],
      "execution_count": 4,
      "outputs": [
        {
          "output_type": "stream",
          "text": [
            "Cloning into 'open-sesame'...\n",
            "remote: Enumerating objects: 3, done.\u001b[K\n",
            "remote: Counting objects:  33% (1/3)\u001b[K\rremote: Counting objects:  66% (2/3)\u001b[K\rremote: Counting objects: 100% (3/3)\u001b[K\rremote: Counting objects: 100% (3/3), done.\u001b[K\n",
            "remote: Compressing objects:  33% (1/3)\u001b[K\rremote: Compressing objects:  66% (2/3)\u001b[K\rremote: Compressing objects: 100% (3/3)\u001b[K\rremote: Compressing objects: 100% (3/3), done.\u001b[K\n",
            "Receiving objects:   0% (1/343)   \rReceiving objects:   1% (4/343)   \rReceiving objects:   2% (7/343)   \rReceiving objects:   3% (11/343)   \rReceiving objects:   4% (14/343)   \rReceiving objects:   5% (18/343)   \rReceiving objects:   6% (21/343)   \rReceiving objects:   7% (25/343)   \rReceiving objects:   8% (28/343)   \rReceiving objects:   9% (31/343)   \rReceiving objects:  10% (35/343)   \rReceiving objects:  11% (38/343)   \rReceiving objects:  12% (42/343)   \rReceiving objects:  13% (45/343)   \rReceiving objects:  14% (49/343)   \rReceiving objects:  15% (52/343)   \rReceiving objects:  16% (55/343)   \rReceiving objects:  17% (59/343)   \rReceiving objects:  18% (62/343)   \rReceiving objects:  19% (66/343)   \rReceiving objects:  20% (69/343)   \rReceiving objects:  21% (73/343)   \rReceiving objects:  22% (76/343)   \rReceiving objects:  23% (79/343)   \rReceiving objects:  24% (83/343)   \rReceiving objects:  25% (86/343)   \rReceiving objects:  26% (90/343)   \rReceiving objects:  27% (93/343)   \rReceiving objects:  28% (97/343)   \rReceiving objects:  29% (100/343)   \rReceiving objects:  30% (103/343)   \rReceiving objects:  31% (107/343)   \rReceiving objects:  32% (110/343)   \rReceiving objects:  33% (114/343)   \rReceiving objects:  34% (117/343)   \rReceiving objects:  35% (121/343)   \rReceiving objects:  36% (124/343)   \rReceiving objects:  37% (127/343)   \rReceiving objects:  38% (131/343)   \rReceiving objects:  39% (134/343)   \rReceiving objects:  40% (138/343)   \rReceiving objects:  41% (141/343)   \rReceiving objects:  42% (145/343)   \rReceiving objects:  43% (148/343)   \rReceiving objects:  44% (151/343)   \rReceiving objects:  45% (155/343)   \rReceiving objects:  46% (158/343)   \rReceiving objects:  47% (162/343)   \rReceiving objects:  48% (165/343)   \rReceiving objects:  49% (169/343)   \rReceiving objects:  50% (172/343)   \rReceiving objects:  51% (175/343)   \rReceiving objects:  52% (179/343)   \rReceiving objects:  53% (182/343)   \rReceiving objects:  54% (186/343)   \rReceiving objects:  55% (189/343)   \rReceiving objects:  56% (193/343)   \rReceiving objects:  57% (196/343)   \rReceiving objects:  58% (199/343)   \rReceiving objects:  59% (203/343)   \rReceiving objects:  60% (206/343)   \rReceiving objects:  61% (210/343)   \rReceiving objects:  62% (213/343)   \rReceiving objects:  63% (217/343)   \rReceiving objects:  64% (220/343)   \rReceiving objects:  65% (223/343)   \rReceiving objects:  66% (227/343)   \rReceiving objects:  67% (230/343)   \rReceiving objects:  68% (234/343)   \rReceiving objects:  69% (237/343)   \rReceiving objects:  70% (241/343)   \rReceiving objects:  71% (244/343)   \rReceiving objects:  72% (247/343)   \rReceiving objects:  73% (251/343)   \rReceiving objects:  74% (254/343)   \rReceiving objects:  75% (258/343)   \rReceiving objects:  76% (261/343)   \rReceiving objects:  77% (265/343)   \rReceiving objects:  78% (268/343)   \rReceiving objects:  79% (271/343)   \rReceiving objects:  80% (275/343)   \rReceiving objects:  81% (278/343)   \rReceiving objects:  82% (282/343)   \rReceiving objects:  83% (285/343)   \rReceiving objects:  84% (289/343)   \rReceiving objects:  85% (292/343)   \rReceiving objects:  86% (295/343)   \rReceiving objects:  87% (299/343)   \rremote: Total 343 (delta 0), reused 2 (delta 0), pack-reused 340\u001b[K\n",
            "Receiving objects:  88% (302/343)   \rReceiving objects:  89% (306/343)   \rReceiving objects:  90% (309/343)   \rReceiving objects:  91% (313/343)   \rReceiving objects:  92% (316/343)   \rReceiving objects:  93% (319/343)   \rReceiving objects:  94% (323/343)   \rReceiving objects:  95% (326/343)   \rReceiving objects:  96% (330/343)   \rReceiving objects:  97% (333/343)   \rReceiving objects:  98% (337/343)   \rReceiving objects:  99% (340/343)   \rReceiving objects: 100% (343/343)   \rReceiving objects: 100% (343/343), 294.99 KiB | 2.98 MiB/s, done.\n",
            "Resolving deltas:   0% (0/196)   \rResolving deltas:  12% (25/196)   \rResolving deltas:  26% (51/196)   \rResolving deltas:  27% (53/196)   \rResolving deltas:  37% (74/196)   \rResolving deltas:  45% (89/196)   \rResolving deltas:  47% (93/196)   \rResolving deltas:  48% (96/196)   \rResolving deltas:  51% (101/196)   \rResolving deltas:  54% (107/196)   \rResolving deltas:  57% (113/196)   \rResolving deltas:  58% (115/196)   \rResolving deltas:  60% (118/196)   \rResolving deltas:  61% (120/196)   \rResolving deltas:  62% (122/196)   \rResolving deltas:  63% (124/196)   \rResolving deltas:  64% (126/196)   \rResolving deltas:  67% (133/196)   \rResolving deltas:  68% (135/196)   \rResolving deltas:  69% (137/196)   \rResolving deltas:  70% (138/196)   \rResolving deltas:  71% (141/196)   \rResolving deltas:  72% (143/196)   \rResolving deltas:  73% (145/196)   \rResolving deltas:  77% (151/196)   \rResolving deltas:  78% (153/196)   \rResolving deltas:  83% (163/196)   \rResolving deltas:  85% (167/196)   \rResolving deltas:  87% (171/196)   \rResolving deltas:  88% (173/196)   \rResolving deltas:  89% (176/196)   \rResolving deltas:  91% (179/196)   \rResolving deltas:  93% (183/196)   \rResolving deltas:  95% (187/196)   \rResolving deltas:  98% (194/196)   \rResolving deltas: 100% (196/196)   \rResolving deltas: 100% (196/196), done.\n"
          ],
          "name": "stdout"
        }
      ]
    },
    {
      "cell_type": "code",
      "metadata": {
        "id": "HFi20-60waD9",
        "colab_type": "code",
        "colab": {
          "base_uri": "https://localhost:8080/",
          "height": 122
        },
        "outputId": "d2ea7294-2a2f-4e8b-fb71-cc95ab1378a3"
      },
      "source": [
        "from google.colab import drive\n",
        "drive.mount('/content/drive')"
      ],
      "execution_count": 5,
      "outputs": [
        {
          "output_type": "stream",
          "text": [
            "Go to this URL in a browser: https://accounts.google.com/o/oauth2/auth?client_id=947318989803-6bn6qk8qdgf4n4g3pfee6491hc0brc4i.apps.googleusercontent.com&redirect_uri=urn%3aietf%3awg%3aoauth%3a2.0%3aoob&response_type=code&scope=email%20https%3a%2f%2fwww.googleapis.com%2fauth%2fdocs.test%20https%3a%2f%2fwww.googleapis.com%2fauth%2fdrive%20https%3a%2f%2fwww.googleapis.com%2fauth%2fdrive.photos.readonly%20https%3a%2f%2fwww.googleapis.com%2fauth%2fpeopleapi.readonly\n",
            "\n",
            "Enter your authorization code:\n",
            "··········\n",
            "Mounted at /content/drive\n"
          ],
          "name": "stdout"
        }
      ]
    },
    {
      "cell_type": "code",
      "metadata": {
        "id": "GLNNjF3MLDx6",
        "colab_type": "code",
        "colab": {
          "base_uri": "https://localhost:8080/",
          "height": 34
        },
        "outputId": "8437522e-e7ef-4214-c52c-8cf2dc10bbdf"
      },
      "source": [
        "%cd open-sesame/"
      ],
      "execution_count": 6,
      "outputs": [
        {
          "output_type": "stream",
          "text": [
            "/content/open-sesame\n"
          ],
          "name": "stdout"
        }
      ]
    },
    {
      "cell_type": "code",
      "metadata": {
        "id": "pykJoW63yyIk",
        "colab_type": "code",
        "colab": {
          "base_uri": "https://localhost:8080/",
          "height": 445
        },
        "outputId": "a2639526-16b5-40ff-a8c1-79be8d065d3e"
      },
      "source": [
        "!python -m sesame.preprocess"
      ],
      "execution_count": 7,
      "outputs": [
        {
          "output_type": "stream",
          "text": [
            "DATA_DIRECTORY:\t../drive/My Drive/Colab Notebooks/data_training_opensesame/\n",
            "DEBUG_MODE:\tFalse\n",
            "EMBEDDINGS_FILE:\t../drive/My Drive/Colab Notebooks/data_training_opensesame/glove.6B.100d.txt\n",
            "VERSION:\t1.7\n",
            "\n",
            "Reading 1.7 fulltext data ...\n",
            "TEST\n",
            "# total sents processed = 2420\n",
            "# repeated sents        = 147\n",
            "# invalid sents         = 1066\n",
            "# sents in set          = 1247\n",
            "# annotations           = 6714\n",
            "DEV\n",
            "# total sents processed = 387\n",
            "# repeated sents        = 0\n",
            "# invalid sents         = 61\n",
            "# sents in set          = 326\n",
            "# annotations           = 2272\n",
            "FULLTEXT TRAIN\n",
            "# total sents processed = 7340\n",
            "# repeated sents        = 70\n",
            "# invalid sents         = 3927\n",
            "# sents in set          = 3353\n",
            "# annotations           = 19391\n"
          ],
          "name": "stdout"
        }
      ]
    },
    {
      "cell_type": "code",
      "metadata": {
        "id": "6xRMLz4dyF0I",
        "colab_type": "code",
        "colab": {}
      },
      "source": [
        "!python -m sesame.targetid --mode train --model_name pretrained_colab_targetid"
      ],
      "execution_count": null,
      "outputs": []
    },
    {
      "cell_type": "code",
      "metadata": {
        "id": "gtwh3rLeyIif",
        "colab_type": "code",
        "colab": {}
      },
      "source": [
        "!python -m sesame.frameid --mode train --model_name pretrained_colab_frameid"
      ],
      "execution_count": null,
      "outputs": []
    },
    {
      "cell_type": "code",
      "metadata": {
        "id": "ICVJaCycyI3Q",
        "colab_type": "code",
        "colab": {
          "base_uri": "https://localhost:8080/",
          "height": 1000
        },
        "outputId": "5036afa7-a768-45fa-c91d-60d8f7c84a4f"
      },
      "source": [
        "!python -m sesame.argid --mode train --model_name pretrained_colab_argid"
      ],
      "execution_count": 8,
      "outputs": [
        {
          "output_type": "stream",
          "text": [
            "[dynet] random seed: 4119424508\n",
            "[dynet] allocating memory: 512MB\n",
            "[dynet] memory allocation done.\n",
            "DATA_DIRECTORY:\t../drive/My Drive/Colab Notebooks/data_training_opensesame/\n",
            "DEBUG_MODE:\tFalse\n",
            "EMBEDDINGS_FILE:\t../drive/My Drive/Colab Notebooks/data_training_opensesame/glove.6B.100d.txt\n",
            "VERSION:\t1.7\n",
            "_____________________\n",
            "COMMAND: /content/open-sesame/sesame/argid.py --mode train --model_name pretrained_colab_argid\n",
            "VALIDATED MODEL SAVED TO:\tlogs/pretrained_colab_argid/best-argid-1.7-model\n",
            "PARSING MODE:\ttrain\n",
            "_____________________\n",
            "\n",
            "\n",
            "Reading ../drive/My Drive/Colab Notebooks/data_training_opensesame/neural/fn1.7/fn1.7.fulltext.train.syntaxnet.conll ...\n",
            "# examples in ../drive/My Drive/Colab Notebooks/data_training_opensesame/neural/fn1.7/fn1.7.fulltext.train.syntaxnet.conll : 19391 in 3413 sents\n",
            "# examples with missing arguments : 526\n",
            "\n",
            "Reading the frame-element - frame map from ../drive/My Drive/Colab Notebooks/data_training_opensesame/fndata-1.7/frame/ ...\n",
            "Max! 32 frame-elements for frame: Traversing\n",
            "\n",
            "\n",
            "Reading pretrained embeddings from ../drive/My Drive/Colab Notebooks/data_training_opensesame/glove.6B.100d.txt ...\n",
            "\n",
            "Reading ../drive/My Drive/Colab Notebooks/data_training_opensesame/neural/fn1.7/fn1.7.dev.syntaxnet.conll ...\n",
            "# examples in ../drive/My Drive/Colab Notebooks/data_training_opensesame/neural/fn1.7/fn1.7.dev.syntaxnet.conll : 2272 in 326 sents\n",
            "# examples with missing arguments : 73\n",
            "\n",
            "clipping spans longer than 20...\n",
            "longest span size: 102\n",
            "longest FE span size: 89\n",
            "# train examples before filter: 19391\n",
            "# train examples after filter: 19391\n",
            "\n",
            "\n",
            "PARSER SETTINGS (see logs/pretrained_colab_argid/configuration.json)\n",
            "_____________________\n",
            "ALLOWED_MAX_SPAN_LENGTH:\t20\n",
            "COST_TYPE:\trecall\n",
            "DEPENDENCY_RELATION_DIM:\t8\n",
            "DEV_EVAL_EPOCH_FREQUENCY:\t5\n",
            "DROPOUT_RATE:\t0.01\n",
            "EVAL_AFTER_EVERY_EPOCHS:\t100\n",
            "FE_DIM:\t50\n",
            "FRAME_DIM:\t100\n",
            "HIDDEN_DIM:\t64\n",
            "LOSS_TYPE:\tsoftmaxm\n",
            "LSTM_DEPTH:\t1\n",
            "LSTM_DIM:\t64\n",
            "LSTM_INPUT_DIM:\t64\n",
            "LU_DIM:\t64\n",
            "LU_POS_DIM:\t2\n",
            "NUM_EPOCHS:\t10\n",
            "PATH_DIM:\t64\n",
            "PATH_LSTM_DIM:\t64\n",
            "PATIENCE:\t3\n",
            "PHRASE_DIM:\t16\n",
            "POS_DIM:\t4\n",
            "PRETRAINED_EMBEDDING_DIM:\t100\n",
            "RECALL_ORIENTED_COST:\t2\n",
            "TOKEN_DIM:\t60\n",
            "TRAIN:\t../drive/My Drive/Colab Notebooks/data_training_opensesame/neural/fn1.7/fn1.7.fulltext.train.syntaxnet.conll\n",
            "UNK_PROB:\t0.1\n",
            "USE_DROPOUT:\tTrue\n",
            "USE_EXEMPLAR:\tFalse\n",
            "USE_HIERARCHY:\tFalse\n",
            "USE_SPAN_CLIP:\tTrue\n",
            "USING_CONSTITUENCY_PARSES:\tFalse\n",
            "USING_DEPENDENCY_PARSES:\tFalse\n",
            "USING_SCAFFOLD_LOSS:\tFalse\n",
            "\n",
            "# Tokens = 400574\n",
            "\tUnseen in dev/test = 45\n",
            "\tUnlearnt in dev/test = 390569\n",
            "# POS tags = 45\n",
            "\tUnseen in dev/test = 0\n",
            "\tUnlearnt in dev/test = 1\n",
            "# LUs = 9441\n",
            "\tUnseen in dev/test = 0\n",
            "\tUnlearnt in dev/test = 6444\n",
            "# LU POS tags = 14\n",
            "\tUnseen in dev/test = 0\n",
            "\tUnlearnt in dev/test = 3\n",
            "# Frames = 1223\n",
            "\tUnseen in dev/test = 0\n",
            "\tUnlearnt in dev/test = 469\n",
            "# FEs = 1287\n",
            "\tUnseen in dev/test = 0\n",
            "\tUnlearnt in dev/test = 521\n",
            "# Constit Labels = 1\n",
            "\tUnseen in dev/test = 0\n",
            "\tUnlearnt in dev/test = 1\n",
            "# Dependency Relations = 1\n",
            "\tUnseen in dev/test = 0\n",
            "\tUnlearnt in dev/test = 1\n",
            "\n",
            "_____________________\n",
            "\n",
            "[lr=0.0005 clips=100 updates=100] epoch=0.100 loss=42.9201 [took 36.041s]\n",
            "[lr=0.0005 clips=100 updates=100] epoch=0.200 loss=31.3476 [took 34.823s]\n",
            "[lr=0.0005 clips=100 updates=100] epoch=0.300 loss=26.8526 [took 30.498s]\n",
            "[lr=0.0005 clips=100 updates=100] epoch=0.400 loss=24.5638 [took 39.652s]\n",
            "[lr=0.0005 clips=99 updates=100] epoch=0.500 loss=23.4025 [took 34.943s]\n",
            "[dev epoch=0.501] wprec = 0.00000 wrec = 0.00000 wf1 = 0.00000\n",
            "[dev epoch=0.501] uprec = 0.00000 urec = 0.00000 uf1 = 0.00000\n",
            "[dev epoch=0.501] lprec = 0.00000 lrec = 0.00000 lf1 = 0.00000 [took 472.927s]\n",
            "[lr=0.0005 clips=100 updates=100] epoch=0.600 loss=22.5133 [took 35.502s]\n",
            "[lr=0.0005 clips=100 updates=100] epoch=0.700 loss=21.7717 [took 32.385s]\n",
            "[lr=0.0005 clips=100 updates=100] epoch=0.800 loss=21.2718 [took 34.384s]\n",
            "[lr=0.0005 clips=99 updates=100] epoch=0.900 loss=20.7354 [took 34.740s]\n",
            "[lr=0.0005 clips=100 updates=100] epoch=0.1000 loss=20.2638 [took 32.412s]\n",
            "[dev epoch=0.1001] wprec = 0.00000 wrec = 0.00000 wf1 = 0.00000\n",
            "[dev epoch=0.1001] uprec = 0.00000 urec = 0.00000 uf1 = 0.00000\n",
            "[dev epoch=0.1001] lprec = 0.00000 lrec = 0.00000 lf1 = 0.00000 [took 476.117s]\n",
            "[lr=0.0005 clips=100 updates=100] epoch=0.1100 loss=19.8966 [took 35.078s]\n",
            "[lr=0.0005 clips=100 updates=100] epoch=0.1200 loss=19.5257 [took 31.645s]\n",
            "[lr=0.0005 clips=100 updates=100] epoch=0.1300 loss=19.2520 [took 41.019s]\n",
            "[lr=0.0005 clips=99 updates=100] epoch=0.1400 loss=19.0203 [took 38.861s]\n",
            "[lr=0.0005 clips=100 updates=100] epoch=0.1500 loss=18.7424 [took 35.907s]\n",
            "Traceback (most recent call last):\n",
            "  File \"/usr/lib/python2.7/runpy.py\", line 174, in _run_module_as_main\n",
            "    \"__main__\", fname, loader, pkg_name)\n",
            "  File \"/usr/lib/python2.7/runpy.py\", line 72, in _run_code\n",
            "    exec code in run_globals\n",
            "  File \"/content/open-sesame/sesame/argid.py\", line 941, in <module>\n",
            "    devex.targetframedict)\n",
            "  File \"/content/open-sesame/sesame/argid.py\", line 837, in identify_fes\n",
            "    facexprscalars = {fact: factor_exprs[fact].scalar_value() for fact in factor_exprs}\n",
            "  File \"/content/open-sesame/sesame/argid.py\", line 837, in <dictcomp>\n",
            "    facexprscalars = {fact: factor_exprs[fact].scalar_value() for fact in factor_exprs}\n",
            "KeyboardInterrupt\n"
          ],
          "name": "stdout"
        }
      ]
    }
  ]
}