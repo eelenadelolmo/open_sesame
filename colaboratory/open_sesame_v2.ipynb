{
  "nbformat": 4,
  "nbformat_minor": 0,
  "metadata": {
    "colab": {
      "name": "open_sesame.ipynb",
      "provenance": [],
      "collapsed_sections": []
    },
    "kernelspec": {
      "name": "python2",
      "display_name": "Python 2"
    },
    "accelerator": "GPU"
  },
  "cells": [
    {
      "cell_type": "code",
      "metadata": {
        "id": "WX7pAyduuD04",
        "colab_type": "code",
        "colab": {
          "base_uri": "https://localhost:8080/",
          "height": 102
        },
        "outputId": "d41c0311-eab1-44b8-e7b7-2c1b3df8421b"
      },
      "source": [
        "!python -m nltk.downloader averaged_perceptron_tagger wordnet"
      ],
      "execution_count": 1,
      "outputs": [
        {
          "output_type": "stream",
          "text": [
            "[nltk_data] Downloading package averaged_perceptron_tagger to\n",
            "[nltk_data]     /root/nltk_data...\n",
            "[nltk_data]   Unzipping taggers/averaged_perceptron_tagger.zip.\n",
            "[nltk_data] Downloading package wordnet to /root/nltk_data...\n",
            "[nltk_data]   Unzipping corpora/wordnet.zip.\n"
          ],
          "name": "stdout"
        }
      ]
    },
    {
      "cell_type": "code",
      "metadata": {
        "id": "XSKC5JXBuHsY",
        "colab_type": "code",
        "colab": {
          "base_uri": "https://localhost:8080/",
          "height": 136
        },
        "outputId": "a2d471fb-5124-4114-f64b-999aad942e8d"
      },
      "source": [
        "!git clone https://github.com/swabhs/open-sesame.git"
      ],
      "execution_count": 2,
      "outputs": [
        {
          "output_type": "stream",
          "text": [
            "Cloning into 'open-sesame'...\n",
            "remote: Enumerating objects: 3, done.\u001b[K\n",
            "remote: Counting objects: 100% (3/3), done.\u001b[K\n",
            "remote: Compressing objects: 100% (3/3), done.\u001b[K\n",
            "remote: Total 343 (delta 0), reused 2 (delta 0), pack-reused 340\u001b[K\n",
            "Receiving objects: 100% (343/343), 294.99 KiB | 7.56 MiB/s, done.\n",
            "Resolving deltas: 100% (196/196), done.\n"
          ],
          "name": "stdout"
        }
      ]
    },
    {
      "cell_type": "code",
      "metadata": {
        "id": "HFi20-60waD9",
        "colab_type": "code",
        "colab": {
          "base_uri": "https://localhost:8080/",
          "height": 122
        },
        "outputId": "8d43e9e7-b7eb-4b9a-cc1b-1c18da4340e1"
      },
      "source": [
        "from google.colab import drive\n",
        "drive.mount('/content/drive')"
      ],
      "execution_count": 3,
      "outputs": [
        {
          "output_type": "stream",
          "text": [
            "Go to this URL in a browser: https://accounts.google.com/o/oauth2/auth?client_id=947318989803-6bn6qk8qdgf4n4g3pfee6491hc0brc4i.apps.googleusercontent.com&redirect_uri=urn%3aietf%3awg%3aoauth%3a2.0%3aoob&response_type=code&scope=email%20https%3a%2f%2fwww.googleapis.com%2fauth%2fdocs.test%20https%3a%2f%2fwww.googleapis.com%2fauth%2fdrive%20https%3a%2f%2fwww.googleapis.com%2fauth%2fdrive.photos.readonly%20https%3a%2f%2fwww.googleapis.com%2fauth%2fpeopleapi.readonly\n",
            "\n",
            "Enter your authorization code:\n",
            "··········\n",
            "Mounted at /content/drive\n"
          ],
          "name": "stdout"
        }
      ]
    },
    {
      "cell_type": "code",
      "metadata": {
        "id": "GLNNjF3MLDx6",
        "colab_type": "code",
        "colab": {
          "base_uri": "https://localhost:8080/",
          "height": 34
        },
        "outputId": "3f720451-2ac3-4795-ee29-03cc85909396"
      },
      "source": [
        "%cd open-sesame/"
      ],
      "execution_count": 4,
      "outputs": [
        {
          "output_type": "stream",
          "text": [
            "/content/open-sesame\n"
          ],
          "name": "stdout"
        }
      ]
    },
    {
      "cell_type": "code",
      "metadata": {
        "id": "pykJoW63yyIk",
        "colab_type": "code",
        "colab": {
          "base_uri": "https://localhost:8080/",
          "height": 425
        },
        "outputId": "b097904c-4e4d-43bd-8a17-a8e4a9d92551"
      },
      "source": [
        "!python -m sesame.preprocess"
      ],
      "execution_count": 6,
      "outputs": [
        {
          "output_type": "stream",
          "text": [
            "DATA_DIRECTORY:\t../drive/My Drive/Colab Notebooks/data_training_opensesame/\n",
            "DEBUG_MODE:\tFalse\n",
            "EMBEDDINGS_FILE:\t../drive/My Drive/Colab Notebooks/data_training_opensesame/glove.6B.100d.txt\n",
            "VERSION:\t1.7\n",
            "\n",
            "Reading 1.7 fulltext data ...\n",
            "TEST\n",
            "# total sents processed = 2420\n",
            "# repeated sents        = 147\n",
            "# invalid sents         = 1066\n",
            "# sents in set          = 1247\n",
            "# annotations           = 6714\n",
            "DEV\n",
            "# total sents processed = 387\n",
            "# repeated sents        = 0\n",
            "# invalid sents         = 61\n",
            "# sents in set          = 326\n",
            "# annotations           = 2272\n",
            "FULLTEXT TRAIN\n",
            "# total sents processed = 7340\n",
            "# repeated sents        = 70\n",
            "# invalid sents         = 3927\n",
            "# sents in set          = 3353\n",
            "# annotations           = 19391\n"
          ],
          "name": "stdout"
        }
      ]
    },
    {
      "cell_type": "code",
      "metadata": {
        "id": "V8596hwjOHYa",
        "colab_type": "code",
        "colab": {
          "base_uri": "https://localhost:8080/",
          "height": 51
        },
        "outputId": "1b9df123-3776-4c65-e794-ddda8168cbd2"
      },
      "source": [
        "%cd ..\n",
        "!mkdir dynet-base\n",
        "%cd dynet-base"
      ],
      "execution_count": 8,
      "outputs": [
        {
          "output_type": "stream",
          "text": [
            "/content\n",
            "/content/dynet-base\n"
          ],
          "name": "stdout"
        }
      ]
    },
    {
      "cell_type": "code",
      "metadata": {
        "id": "aOq5I1noo9fp",
        "colab_type": "code",
        "colab": {
          "base_uri": "https://localhost:8080/",
          "height": 1000
        },
        "outputId": "c7397eab-510c-4cc5-a7aa-cd2214064196"
      },
      "source": [
        "!sudo apt-get update\n",
        "!sudo apt-get install python-pip build-essential cmake mercurial"
      ],
      "execution_count": 11,
      "outputs": [
        {
          "output_type": "stream",
          "text": [
            "\r0% [Working]\r            \rGet:1 http://security.ubuntu.com/ubuntu bionic-security InRelease [88.7 kB]\n",
            "\r0% [Connecting to archive.ubuntu.com (91.189.88.152)] [1 InRelease 14.2 kB/88.7\r0% [Connecting to archive.ubuntu.com (91.189.88.152)] [Connecting to cloud.r-pr\r                                                                               \rIgn:2 https://developer.download.nvidia.com/compute/cuda/repos/ubuntu1804/x86_64  InRelease\n",
            "\r0% [Waiting for headers] [Connecting to cloud.r-project.org] [Waiting for heade\r0% [1 InRelease gpgv 88.7 kB] [Waiting for headers] [Connecting to cloud.r-proj\r                                                                               \rIgn:3 https://developer.download.nvidia.com/compute/machine-learning/repos/ubuntu1804/x86_64  InRelease\n",
            "\r0% [1 InRelease gpgv 88.7 kB] [Waiting for headers] [Connecting to cloud.r-proj\r                                                                               \rHit:4 http://ppa.launchpad.net/graphics-drivers/ppa/ubuntu bionic InRelease\n",
            "\r0% [1 InRelease gpgv 88.7 kB] [Waiting for headers] [Connecting to cloud.r-proj\r                                                                               \rHit:5 https://developer.download.nvidia.com/compute/cuda/repos/ubuntu1804/x86_64  Release\n",
            "\r0% [1 InRelease gpgv 88.7 kB] [Waiting for headers] [Connecting to cloud.r-proj\r                                                                               \rHit:6 https://developer.download.nvidia.com/compute/machine-learning/repos/ubuntu1804/x86_64  Release\n",
            "\r0% [1 InRelease gpgv 88.7 kB] [Waiting for headers] [Connecting to cloud.r-proj\r                                                                               \rHit:7 http://archive.ubuntu.com/ubuntu bionic InRelease\n",
            "\r0% [1 InRelease gpgv 88.7 kB] [Waiting for headers] [Connecting to cloud.r-proj\r0% [Waiting for headers] [Connecting to cloud.r-project.org (13.32.87.34)] [Wai\r0% [4 InRelease gpgv 21.3 kB] [Waiting for headers] [Waiting for headers] [Conn\r                                                                               \rGet:8 http://archive.ubuntu.com/ubuntu bionic-updates InRelease [88.7 kB]\n",
            "Get:9 http://security.ubuntu.com/ubuntu bionic-security/universe amd64 Packages [882 kB]\n",
            "Get:10 http://ppa.launchpad.net/marutter/c2d4u3.5/ubuntu bionic InRelease [15.4 kB]\n",
            "Get:11 http://security.ubuntu.com/ubuntu bionic-security/main amd64 Packages [1,037 kB]\n",
            "Get:12 https://cloud.r-project.org/bin/linux/ubuntu bionic-cran35/ InRelease [3,626 B]\n",
            "Get:14 http://archive.ubuntu.com/ubuntu bionic-backports InRelease [74.6 kB]\n",
            "Get:16 http://ppa.launchpad.net/marutter/c2d4u3.5/ubuntu bionic/main Sources [1,854 kB]\n",
            "Get:17 http://archive.ubuntu.com/ubuntu bionic-updates/universe amd64 Packages [1,413 kB]\n",
            "Get:18 http://archive.ubuntu.com/ubuntu bionic-updates/restricted amd64 Packages [116 kB]\n",
            "Get:19 http://archive.ubuntu.com/ubuntu bionic-updates/multiverse amd64 Packages [27.1 kB]\n",
            "Get:20 http://archive.ubuntu.com/ubuntu bionic-updates/main amd64 Packages [1,334 kB]\n",
            "Get:21 http://ppa.launchpad.net/marutter/c2d4u3.5/ubuntu bionic/main amd64 Packages [895 kB]\n",
            "Fetched 7,829 kB in 3s (3,130 kB/s)\n",
            "Reading package lists... Done\n",
            "Reading package lists... Done\n",
            "Building dependency tree       \n",
            "Reading state information... Done\n",
            "build-essential is already the newest version (12.4ubuntu1).\n",
            "cmake is already the newest version (3.10.2-1ubuntu2.18.04.1).\n",
            "The following package was automatically installed and is no longer required:\n",
            "  libnvidia-common-440\n",
            "Use 'sudo apt autoremove' to remove it.\n",
            "The following additional packages will be installed:\n",
            "  libpython-all-dev mercurial-common python-all python-all-dev\n",
            "  python-asn1crypto python-cffi-backend python-crypto python-cryptography\n",
            "  python-dbus python-enum34 python-gi python-idna python-ipaddress\n",
            "  python-keyring python-keyrings.alt python-pip-whl python-pkg-resources\n",
            "  python-secretstorage python-setuptools python-six python-wheel python-xdg\n",
            "Suggested packages:\n",
            "  kdiff3 | kdiff3-qt | kompare | meld | tkcvs | mgdiff qct python-mysqldb\n",
            "  python-openssl python-pygments python-crypto-doc python-cryptography-doc\n",
            "  python-cryptography-vectors python-dbus-dbg python-dbus-doc\n",
            "  python-enum34-doc python-gi-cairo gnome-keyring libkf5wallet-bin\n",
            "  gir1.2-gnomekeyring-1.0 python-fs python-gdata python-keyczar\n",
            "  python-secretstorage-doc python-setuptools-doc\n",
            "The following NEW packages will be installed:\n",
            "  libpython-all-dev mercurial mercurial-common python-all python-all-dev\n",
            "  python-asn1crypto python-cffi-backend python-crypto python-cryptography\n",
            "  python-dbus python-enum34 python-gi python-idna python-ipaddress\n",
            "  python-keyring python-keyrings.alt python-pip python-pip-whl\n",
            "  python-pkg-resources python-secretstorage python-setuptools python-six\n",
            "  python-wheel python-xdg\n",
            "0 upgraded, 24 newly installed, 0 to remove and 40 not upgraded.\n",
            "Need to get 5,763 kB of archives.\n",
            "After this operation, 22.7 MB of additional disk space will be used.\n",
            "Get:1 http://archive.ubuntu.com/ubuntu bionic/main amd64 libpython-all-dev amd64 2.7.15~rc1-1 [1,092 B]\n",
            "Get:2 http://archive.ubuntu.com/ubuntu bionic-updates/universe amd64 mercurial-common all 4.5.3-1ubuntu2.1 [2,198 kB]\n",
            "Get:3 http://archive.ubuntu.com/ubuntu bionic-updates/universe amd64 mercurial amd64 4.5.3-1ubuntu2.1 [189 kB]\n",
            "Get:4 http://archive.ubuntu.com/ubuntu bionic/main amd64 python-all amd64 2.7.15~rc1-1 [1,076 B]\n",
            "Get:5 http://archive.ubuntu.com/ubuntu bionic/main amd64 python-all-dev amd64 2.7.15~rc1-1 [1,100 B]\n",
            "Get:6 http://archive.ubuntu.com/ubuntu bionic/main amd64 python-asn1crypto all 0.24.0-1 [72.7 kB]\n",
            "Get:7 http://archive.ubuntu.com/ubuntu bionic/main amd64 python-cffi-backend amd64 1.11.5-1 [63.4 kB]\n",
            "Get:8 http://archive.ubuntu.com/ubuntu bionic/main amd64 python-crypto amd64 2.6.1-8ubuntu2 [244 kB]\n",
            "Get:9 http://archive.ubuntu.com/ubuntu bionic/main amd64 python-enum34 all 1.1.6-2 [34.8 kB]\n",
            "Get:10 http://archive.ubuntu.com/ubuntu bionic/main amd64 python-idna all 2.6-1 [32.4 kB]\n",
            "Get:11 http://archive.ubuntu.com/ubuntu bionic/main amd64 python-ipaddress all 1.0.17-1 [18.2 kB]\n",
            "Get:12 http://archive.ubuntu.com/ubuntu bionic/main amd64 python-six all 1.11.0-2 [11.3 kB]\n",
            "Get:13 http://archive.ubuntu.com/ubuntu bionic-updates/main amd64 python-cryptography amd64 2.1.4-1ubuntu1.3 [221 kB]\n",
            "Get:14 http://archive.ubuntu.com/ubuntu bionic/main amd64 python-dbus amd64 1.2.6-1 [90.2 kB]\n",
            "Get:15 http://archive.ubuntu.com/ubuntu bionic-updates/main amd64 python-gi amd64 3.26.1-2ubuntu1 [197 kB]\n",
            "Get:16 http://archive.ubuntu.com/ubuntu bionic/main amd64 python-secretstorage all 2.3.1-2 [11.8 kB]\n",
            "Get:17 http://archive.ubuntu.com/ubuntu bionic/main amd64 python-keyring all 10.6.0-1 [30.6 kB]\n",
            "Get:18 http://archive.ubuntu.com/ubuntu bionic/main amd64 python-keyrings.alt all 3.0-1 [16.7 kB]\n",
            "Get:19 http://archive.ubuntu.com/ubuntu bionic-updates/universe amd64 python-pip-whl all 9.0.1-2.3~ubuntu1.18.04.1 [1,653 kB]\n",
            "Get:20 http://archive.ubuntu.com/ubuntu bionic-updates/universe amd64 python-pip all 9.0.1-2.3~ubuntu1.18.04.1 [151 kB]\n",
            "Get:21 http://archive.ubuntu.com/ubuntu bionic/main amd64 python-pkg-resources all 39.0.1-2 [128 kB]\n",
            "Get:22 http://archive.ubuntu.com/ubuntu bionic/main amd64 python-setuptools all 39.0.1-2 [329 kB]\n",
            "Get:23 http://archive.ubuntu.com/ubuntu bionic/universe amd64 python-wheel all 0.30.0-0.2 [36.4 kB]\n",
            "Get:24 http://archive.ubuntu.com/ubuntu bionic/universe amd64 python-xdg all 0.25-4ubuntu1 [31.3 kB]\n",
            "Fetched 5,763 kB in 1s (4,466 kB/s)\n",
            "debconf: unable to initialize frontend: Dialog\n",
            "debconf: (No usable dialog-like program is installed, so the dialog based frontend cannot be used. at /usr/share/perl5/Debconf/FrontEnd/Dialog.pm line 76, <> line 24.)\n",
            "debconf: falling back to frontend: Readline\n",
            "debconf: unable to initialize frontend: Readline\n",
            "debconf: (This frontend requires a controlling tty.)\n",
            "debconf: falling back to frontend: Teletype\n",
            "dpkg-preconfigure: unable to re-open stdin: \n",
            "Selecting previously unselected package libpython-all-dev:amd64.\n",
            "(Reading database ... 144487 files and directories currently installed.)\n",
            "Preparing to unpack .../00-libpython-all-dev_2.7.15~rc1-1_amd64.deb ...\n",
            "Unpacking libpython-all-dev:amd64 (2.7.15~rc1-1) ...\n",
            "Selecting previously unselected package mercurial-common.\n",
            "Preparing to unpack .../01-mercurial-common_4.5.3-1ubuntu2.1_all.deb ...\n",
            "Unpacking mercurial-common (4.5.3-1ubuntu2.1) ...\n",
            "Selecting previously unselected package mercurial.\n",
            "Preparing to unpack .../02-mercurial_4.5.3-1ubuntu2.1_amd64.deb ...\n",
            "Unpacking mercurial (4.5.3-1ubuntu2.1) ...\n",
            "Selecting previously unselected package python-all.\n",
            "Preparing to unpack .../03-python-all_2.7.15~rc1-1_amd64.deb ...\n",
            "Unpacking python-all (2.7.15~rc1-1) ...\n",
            "Selecting previously unselected package python-all-dev.\n",
            "Preparing to unpack .../04-python-all-dev_2.7.15~rc1-1_amd64.deb ...\n",
            "Unpacking python-all-dev (2.7.15~rc1-1) ...\n",
            "Selecting previously unselected package python-asn1crypto.\n",
            "Preparing to unpack .../05-python-asn1crypto_0.24.0-1_all.deb ...\n",
            "Unpacking python-asn1crypto (0.24.0-1) ...\n",
            "Selecting previously unselected package python-cffi-backend.\n",
            "Preparing to unpack .../06-python-cffi-backend_1.11.5-1_amd64.deb ...\n",
            "Unpacking python-cffi-backend (1.11.5-1) ...\n",
            "Selecting previously unselected package python-crypto.\n",
            "Preparing to unpack .../07-python-crypto_2.6.1-8ubuntu2_amd64.deb ...\n",
            "Unpacking python-crypto (2.6.1-8ubuntu2) ...\n",
            "Selecting previously unselected package python-enum34.\n",
            "Preparing to unpack .../08-python-enum34_1.1.6-2_all.deb ...\n",
            "Unpacking python-enum34 (1.1.6-2) ...\n",
            "Selecting previously unselected package python-idna.\n",
            "Preparing to unpack .../09-python-idna_2.6-1_all.deb ...\n",
            "Unpacking python-idna (2.6-1) ...\n",
            "Selecting previously unselected package python-ipaddress.\n",
            "Preparing to unpack .../10-python-ipaddress_1.0.17-1_all.deb ...\n",
            "Unpacking python-ipaddress (1.0.17-1) ...\n",
            "Selecting previously unselected package python-six.\n",
            "Preparing to unpack .../11-python-six_1.11.0-2_all.deb ...\n",
            "Unpacking python-six (1.11.0-2) ...\n",
            "Selecting previously unselected package python-cryptography.\n",
            "Preparing to unpack .../12-python-cryptography_2.1.4-1ubuntu1.3_amd64.deb ...\n",
            "Unpacking python-cryptography (2.1.4-1ubuntu1.3) ...\n",
            "Selecting previously unselected package python-dbus.\n",
            "Preparing to unpack .../13-python-dbus_1.2.6-1_amd64.deb ...\n",
            "Unpacking python-dbus (1.2.6-1) ...\n",
            "Selecting previously unselected package python-gi.\n",
            "Preparing to unpack .../14-python-gi_3.26.1-2ubuntu1_amd64.deb ...\n",
            "Unpacking python-gi (3.26.1-2ubuntu1) ...\n",
            "Selecting previously unselected package python-secretstorage.\n",
            "Preparing to unpack .../15-python-secretstorage_2.3.1-2_all.deb ...\n",
            "Unpacking python-secretstorage (2.3.1-2) ...\n",
            "Selecting previously unselected package python-keyring.\n",
            "Preparing to unpack .../16-python-keyring_10.6.0-1_all.deb ...\n",
            "Unpacking python-keyring (10.6.0-1) ...\n",
            "Selecting previously unselected package python-keyrings.alt.\n",
            "Preparing to unpack .../17-python-keyrings.alt_3.0-1_all.deb ...\n",
            "Unpacking python-keyrings.alt (3.0-1) ...\n",
            "Selecting previously unselected package python-pip-whl.\n",
            "Preparing to unpack .../18-python-pip-whl_9.0.1-2.3~ubuntu1.18.04.1_all.deb ...\n",
            "Unpacking python-pip-whl (9.0.1-2.3~ubuntu1.18.04.1) ...\n",
            "Selecting previously unselected package python-pip.\n",
            "Preparing to unpack .../19-python-pip_9.0.1-2.3~ubuntu1.18.04.1_all.deb ...\n",
            "Unpacking python-pip (9.0.1-2.3~ubuntu1.18.04.1) ...\n",
            "Selecting previously unselected package python-pkg-resources.\n",
            "Preparing to unpack .../20-python-pkg-resources_39.0.1-2_all.deb ...\n",
            "Unpacking python-pkg-resources (39.0.1-2) ...\n",
            "Selecting previously unselected package python-setuptools.\n",
            "Preparing to unpack .../21-python-setuptools_39.0.1-2_all.deb ...\n",
            "Unpacking python-setuptools (39.0.1-2) ...\n",
            "Selecting previously unselected package python-wheel.\n",
            "Preparing to unpack .../22-python-wheel_0.30.0-0.2_all.deb ...\n",
            "Unpacking python-wheel (0.30.0-0.2) ...\n",
            "Selecting previously unselected package python-xdg.\n",
            "Preparing to unpack .../23-python-xdg_0.25-4ubuntu1_all.deb ...\n",
            "Unpacking python-xdg (0.25-4ubuntu1) ...\n",
            "Setting up python-idna (2.6-1) ...\n",
            "Setting up python-pip-whl (9.0.1-2.3~ubuntu1.18.04.1) ...\n",
            "Setting up python-asn1crypto (0.24.0-1) ...\n",
            "Setting up python-crypto (2.6.1-8ubuntu2) ...\n",
            "Setting up python-wheel (0.30.0-0.2) ...\n",
            "Setting up libpython-all-dev:amd64 (2.7.15~rc1-1) ...\n",
            "Setting up python-pkg-resources (39.0.1-2) ...\n",
            "Setting up python-cffi-backend (1.11.5-1) ...\n",
            "Setting up mercurial-common (4.5.3-1ubuntu2.1) ...\n",
            "Setting up python-gi (3.26.1-2ubuntu1) ...\n",
            "Setting up mercurial (4.5.3-1ubuntu2.1) ...\n",
            "debconf: unable to initialize frontend: Dialog\n",
            "debconf: (No usable dialog-like program is installed, so the dialog based frontend cannot be used. at /usr/share/perl5/Debconf/FrontEnd/Dialog.pm line 76.)\n",
            "debconf: falling back to frontend: Readline\n",
            "\n",
            "Creating config file /etc/mercurial/hgrc.d/hgext.rc with new version\n",
            "Setting up python-six (1.11.0-2) ...\n",
            "Setting up python-enum34 (1.1.6-2) ...\n",
            "Setting up python-dbus (1.2.6-1) ...\n",
            "Setting up python-ipaddress (1.0.17-1) ...\n",
            "Setting up python-pip (9.0.1-2.3~ubuntu1.18.04.1) ...\n",
            "Setting up python-all (2.7.15~rc1-1) ...\n",
            "Setting up python-xdg (0.25-4ubuntu1) ...\n",
            "Setting up python-setuptools (39.0.1-2) ...\n",
            "Setting up python-keyrings.alt (3.0-1) ...\n",
            "Setting up python-all-dev (2.7.15~rc1-1) ...\n",
            "Setting up python-cryptography (2.1.4-1ubuntu1.3) ...\n",
            "Setting up python-secretstorage (2.3.1-2) ...\n",
            "Setting up python-keyring (10.6.0-1) ...\n",
            "Processing triggers for man-db (2.8.3-2ubuntu0.1) ...\n"
          ],
          "name": "stdout"
        }
      ]
    },
    {
      "cell_type": "code",
      "metadata": {
        "id": "Sde20ed6OUdU",
        "colab_type": "code",
        "colab": {}
      },
      "source": [
        "%cd /content/dynet-base\n",
        "!git clone https://github.com/clab/dynet.git\n",
        "!hg clone https://bitbucket.org/eigen/eigen -r b2e267d  # -r NUM specified a known working revision\n",
        "%cd dynet"
      ],
      "execution_count": null,
      "outputs": []
    },
    {
      "cell_type": "code",
      "metadata": {
        "id": "Ye6DsYUnQWif",
        "colab_type": "code",
        "colab": {
          "base_uri": "https://localhost:8080/",
          "height": 34
        },
        "outputId": "f35a2e80-d2a9-45fc-950c-42d9c439101a"
      },
      "source": [
        "!mkdir build\n",
        "%cd build"
      ],
      "execution_count": 10,
      "outputs": [
        {
          "output_type": "stream",
          "text": [
            "/content/dynet-base/dynet/build\n"
          ],
          "name": "stdout"
        }
      ]
    },
    {
      "cell_type": "code",
      "metadata": {
        "id": "oI-PUt39pOkR",
        "colab_type": "code",
        "colab": {
          "base_uri": "https://localhost:8080/",
          "height": 34
        },
        "outputId": "0b8942b1-7e63-4ff0-f524-876d4728f229"
      },
      "source": [
        "%cd .."
      ],
      "execution_count": 14,
      "outputs": [
        {
          "output_type": "stream",
          "text": [
            "/content/dynet-base/dynet/build\n"
          ],
          "name": "stdout"
        }
      ]
    },
    {
      "cell_type": "code",
      "metadata": {
        "id": "by3bJp_YRb5i",
        "colab_type": "code",
        "colab": {
          "base_uri": "https://localhost:8080/",
          "height": 68
        },
        "outputId": "984a5f83-3ba7-422d-c052-c3ed2b4f0c23"
      },
      "source": [
        "!cmake --version"
      ],
      "execution_count": 15,
      "outputs": [
        {
          "output_type": "stream",
          "text": [
            "cmake version 3.12.0\n",
            "\n",
            "CMake suite maintained and supported by Kitware (kitware.com/cmake).\n"
          ],
          "name": "stdout"
        }
      ]
    },
    {
      "cell_type": "code",
      "metadata": {
        "id": "kh30y5zqZoGq",
        "colab_type": "code",
        "colab": {}
      },
      "source": [
        "%cd /content\n",
        "!sudo apt remove cmake\n",
        "!sudo apt purge --auto-remove cmake"
      ],
      "execution_count": null,
      "outputs": []
    },
    {
      "cell_type": "code",
      "metadata": {
        "id": "2-jctPvaZ0oX",
        "colab_type": "code",
        "colab": {
          "base_uri": "https://localhost:8080/",
          "height": 34
        },
        "outputId": "4d08f7ec-d2d9-46de-c0cb-fc1b2b40664b"
      },
      "source": [
        "!mkdir ~/temp\n",
        "%cd ~/temp"
      ],
      "execution_count": 30,
      "outputs": [
        {
          "output_type": "stream",
          "text": [
            "/root/temp\n"
          ],
          "name": "stdout"
        }
      ]
    },
    {
      "cell_type": "code",
      "metadata": {
        "id": "sa_6dMYnZ54x",
        "colab_type": "code",
        "colab": {}
      },
      "source": [
        "!wget https://cmake.org/files/v3.12/cmake-3.12.3-Linux-x86_64.sh"
      ],
      "execution_count": null,
      "outputs": []
    },
    {
      "cell_type": "code",
      "metadata": {
        "id": "9FzpOnkDZ-UJ",
        "colab_type": "code",
        "colab": {}
      },
      "source": [
        "!sudo mkdir /opt/cmake\n",
        "!sudo sh cmake-3.12.3-Linux-x86_64.sh --prefix=/opt/cmake --skip-license"
      ],
      "execution_count": null,
      "outputs": []
    },
    {
      "cell_type": "code",
      "metadata": {
        "id": "eTeGRXyEaJ10",
        "colab_type": "code",
        "colab": {}
      },
      "source": [
        "!sudo ln -s /opt/cmake/bin/cmake /usr/local/bin/cmake"
      ],
      "execution_count": 34,
      "outputs": []
    },
    {
      "cell_type": "code",
      "metadata": {
        "id": "HwC6S4WTS4df",
        "colab_type": "code",
        "colab": {
          "base_uri": "https://localhost:8080/",
          "height": 68
        },
        "outputId": "df194e37-12f9-40d1-b044-dbb9db580a19"
      },
      "source": [
        "!cmake --version"
      ],
      "execution_count": 35,
      "outputs": [
        {
          "output_type": "stream",
          "text": [
            "cmake version 3.12.3\n",
            "\n",
            "CMake suite maintained and supported by Kitware (kitware.com/cmake).\n"
          ],
          "name": "stdout"
        }
      ]
    },
    {
      "cell_type": "code",
      "metadata": {
        "id": "i3pPFGbMOd1I",
        "colab_type": "code",
        "colab": {}
      },
      "source": [
        "%cd /content/dynet-base/dynet/build/\n",
        "# or with GPU support (if you get an error that Eigen cannot be found, try using the full path to Eigen)\n",
        "!cmake .. -DEIGEN3_INCLUDE_DIR=../../eigen -DPYTHON=`which python` -DBACKEND=cuda"
      ],
      "execution_count": null,
      "outputs": []
    },
    {
      "cell_type": "code",
      "metadata": {
        "id": "qh5rz-tJbGc6",
        "colab_type": "code",
        "colab": {}
      },
      "source": [
        "!cmake .. -DEIGEN3_INCLUDE_DIR=../../eigen -DPYTHON=`which python` -DBACKEND=cuda"
      ],
      "execution_count": null,
      "outputs": []
    },
    {
      "cell_type": "code",
      "metadata": {
        "id": "HYKGTVkDbntl",
        "colab_type": "code",
        "colab": {
          "base_uri": "https://localhost:8080/",
          "height": 476
        },
        "outputId": "edb723ee-b346-4aa4-e4d8-a6831514bd65"
      },
      "source": [
        "from tensorflow.python.client import device_lib\n",
        "device_lib.list_local_devices()"
      ],
      "execution_count": 44,
      "outputs": [
        {
          "output_type": "execute_result",
          "data": {
            "text/plain": [
              "[name: \"/device:CPU:0\"\n",
              " device_type: \"CPU\"\n",
              " memory_limit: 268435456\n",
              " locality {\n",
              " }\n",
              " incarnation: 4801051863826899679, name: \"/device:XLA_CPU:0\"\n",
              " device_type: \"XLA_CPU\"\n",
              " memory_limit: 17179869184\n",
              " locality {\n",
              " }\n",
              " incarnation: 11417869407017416490\n",
              " physical_device_desc: \"device: XLA_CPU device\", name: \"/device:XLA_GPU:0\"\n",
              " device_type: \"XLA_GPU\"\n",
              " memory_limit: 17179869184\n",
              " locality {\n",
              " }\n",
              " incarnation: 3039957333260628510\n",
              " physical_device_desc: \"device: XLA_GPU device\", name: \"/device:GPU:0\"\n",
              " device_type: \"GPU\"\n",
              " memory_limit: 15956099072\n",
              " locality {\n",
              "   bus_id: 1\n",
              "   links {\n",
              "   }\n",
              " }\n",
              " incarnation: 6552432372320195705\n",
              " physical_device_desc: \"device: 0, name: Tesla P100-PCIE-16GB, pci bus id: 0000:00:04.0, compute capability: 6.0\"]"
            ]
          },
          "metadata": {
            "tags": []
          },
          "execution_count": 44
        }
      ]
    },
    {
      "cell_type": "code",
      "metadata": {
        "id": "2uhtO-Uxzzx_",
        "colab_type": "code",
        "colab": {
          "base_uri": "https://localhost:8080/",
          "height": 102
        },
        "outputId": "1b6c8e0f-c00d-4d2a-b994-c5450207d7ce"
      },
      "source": [
        "!gcc --version"
      ],
      "execution_count": 50,
      "outputs": [
        {
          "output_type": "stream",
          "text": [
            "gcc (Ubuntu 7.5.0-3ubuntu1~18.04) 7.5.0\n",
            "Copyright (C) 2017 Free Software Foundation, Inc.\n",
            "This is free software; see the source for copying conditions.  There is NO\n",
            "warranty; not even for MERCHANTABILITY or FITNESS FOR A PARTICULAR PURPOSE.\n",
            "\n"
          ],
          "name": "stdout"
        }
      ]
    },
    {
      "cell_type": "code",
      "metadata": {
        "id": "v0iRexP15e-f",
        "colab_type": "code",
        "colab": {
          "base_uri": "https://localhost:8080/",
          "height": 1000
        },
        "outputId": "974291b5-bb6d-436e-debd-dc5bd8fc828f"
      },
      "source": [
        "!sudo apt-get remove gcc g++\n",
        "!sudo apt-get update\n",
        "!sudo apt-get install gcc-4.8"
      ],
      "execution_count": 60,
      "outputs": [
        {
          "output_type": "stream",
          "text": [
            "Reading package lists... Done\n",
            "Building dependency tree       \n",
            "Reading state information... Done\n",
            "Package 'g++' is not installed, so not removed\n",
            "Package 'gcc' is not installed, so not removed\n",
            "The following packages were automatically installed and are no longer required:\n",
            "  cpp cuda-cudart-11-0 cuda-cudart-dev-11-0 cuda-cuobjdump-10-0\n",
            "  cuda-cuobjdump-10-1 cuda-cuobjdump-11-0 cuda-driver-dev-11-0 cuda-gdb-10-0\n",
            "  cuda-gdb-10-1 cuda-gdb-11-0 cuda-gpu-library-advisor-10-0\n",
            "  cuda-gpu-library-advisor-10-1 cuda-libraries-10-0 cuda-libraries-11-0\n",
            "  cuda-libraries-dev-11-0 cuda-memcheck-10-0 cuda-memcheck-10-1\n",
            "  cuda-memcheck-11-0 cuda-nsight-10-0 cuda-nsight-10-1 cuda-nsight-11-0\n",
            "  cuda-nsight-compute-10-0 cuda-nsight-compute-10-1 cuda-nsight-compute-11-0\n",
            "  cuda-nsight-systems-10-1 cuda-nsight-systems-11-0 cuda-nvdisasm-10-0\n",
            "  cuda-nvdisasm-10-1 cuda-nvdisasm-11-0 cuda-nvml-dev-10-0 cuda-nvml-dev-11-0\n",
            "  cuda-nvprof-10-0 cuda-nvprof-10-1 cuda-nvprof-11-0 cuda-nvprune-10-0\n",
            "  cuda-nvprune-10-1 cuda-nvprune-11-0 cuda-nvrtc-11-0 cuda-nvrtc-dev-11-0\n",
            "  cuda-nvtx-10-0 cuda-nvtx-11-0 cuda-nvvp-10-0 cuda-nvvp-10-1 cuda-nvvp-11-0\n",
            "  cuda-sanitizer-11-0 cuda-sanitizer-api-10-1 cuda-visual-tools-10-0\n",
            "  cuda-visual-tools-10-1 cuda-visual-tools-11-0 default-jre freeglut3\n",
            "  freeglut3-dev g++-7 gfortran-7 keyboard-configuration libargon2-0 libbz2-dev\n",
            "  libcap2 libcryptsetup12 libcublas-11-0 libcublas-dev-11-0 libcufft-11-0\n",
            "  libcufft-dev-11-0 libcurand-11-0 libcurand-dev-11-0 libcusolver-11-0\n",
            "  libcusolver-dev-11-0 libcusparse-11-0 libcusparse-dev-11-0\n",
            "  libdevmapper1.02.1 libfontenc1 libgfortran-7-dev libgtk2.0-0\n",
            "  libgtk2.0-common libidn11 libip4tc0 libjansson4 libnpp-11-0 libnpp-dev-11-0\n",
            "  libnvidia-cfg1-450 libnvidia-common-450 libnvidia-decode-450\n",
            "  libnvidia-encode-450 libnvidia-extra-450 libnvidia-fbc1-450 libnvidia-gl-450\n",
            "  libnvidia-ifr1-450 libnvjpeg-11-0 libnvjpeg-dev-11-0 libpam-systemd\n",
            "  libpcre2-16-0 libpcre2-32-0 libpcre2-8-0 libpcre2-dev libpcre2-posix0\n",
            "  libpolkit-agent-1-0 libpolkit-backend-1-0 libpolkit-gobject-1-0\n",
            "  libreadline-dev libxfont2 libxi-dev libxkbfile1 libxmu-dev libxmu-headers\n",
            "  libxnvctrl0 nsight-compute-2020.1.1 nsight-systems-2020.3.2\n",
            "  nvidia-compute-utils-450 nvidia-kernel-common-450 nvidia-kernel-source-450\n",
            "  nvidia-modprobe nvidia-settings nvidia-utils-450 openjdk-11-jre policykit-1\n",
            "  policykit-1-gnome python3-xkit screen-resolution-extra systemd systemd-sysv\n",
            "  udev x11-xkb-utils xserver-common xserver-xorg-core-hwe-18.04\n",
            "  xserver-xorg-video-nvidia-450\n",
            "Use 'sudo apt autoremove' to remove them.\n",
            "0 upgraded, 0 newly installed, 0 to remove and 40 not upgraded.\n",
            "Get:1 file:/var/cuda-repo-9-2-local  InRelease\n",
            "Ign:1 file:/var/cuda-repo-9-2-local  InRelease\n",
            "Get:2 file:/var/cuda-repo-9-2-local  Release [574 B]\n",
            "Get:2 file:/var/cuda-repo-9-2-local  Release [574 B]\n",
            "Ign:3 https://developer.download.nvidia.com/compute/cuda/repos/ubuntu1804/x86_64  InRelease\n",
            "Get:5 http://security.ubuntu.com/ubuntu bionic-security InRelease [88.7 kB]\n",
            "Hit:6 http://archive.ubuntu.com/ubuntu bionic InRelease\n",
            "Hit:7 http://ppa.launchpad.net/graphics-drivers/ppa/ubuntu bionic InRelease\n",
            "Ign:8 https://developer.download.nvidia.com/compute/machine-learning/repos/ubuntu1804/x86_64  InRelease\n",
            "Hit:9 https://developer.download.nvidia.com/compute/cuda/repos/ubuntu1804/x86_64  Release\n",
            "Hit:10 https://developer.download.nvidia.com/compute/machine-learning/repos/ubuntu1804/x86_64  Release\n",
            "Get:11 http://archive.ubuntu.com/ubuntu bionic-updates InRelease [88.7 kB]\n",
            "Hit:12 https://cloud.r-project.org/bin/linux/ubuntu bionic-cran35/ InRelease\n",
            "Hit:13 http://ppa.launchpad.net/marutter/c2d4u3.5/ubuntu bionic InRelease\n",
            "Get:16 http://archive.ubuntu.com/ubuntu bionic-backports InRelease [74.6 kB]\n",
            "Fetched 252 kB in 1s (252 kB/s)\n",
            "Reading package lists... Done\n",
            "Reading package lists... Done\n",
            "Building dependency tree       \n",
            "Reading state information... Done\n",
            "The following packages were automatically installed and are no longer required:\n",
            "  cpp cuda-cudart-11-0 cuda-cudart-dev-11-0 cuda-cuobjdump-10-0\n",
            "  cuda-cuobjdump-10-1 cuda-cuobjdump-11-0 cuda-driver-dev-11-0 cuda-gdb-10-0\n",
            "  cuda-gdb-10-1 cuda-gdb-11-0 cuda-gpu-library-advisor-10-0\n",
            "  cuda-gpu-library-advisor-10-1 cuda-libraries-10-0 cuda-libraries-11-0\n",
            "  cuda-libraries-dev-11-0 cuda-memcheck-10-0 cuda-memcheck-10-1\n",
            "  cuda-memcheck-11-0 cuda-nsight-10-0 cuda-nsight-10-1 cuda-nsight-11-0\n",
            "  cuda-nsight-compute-10-0 cuda-nsight-compute-10-1 cuda-nsight-compute-11-0\n",
            "  cuda-nsight-systems-10-1 cuda-nsight-systems-11-0 cuda-nvdisasm-10-0\n",
            "  cuda-nvdisasm-10-1 cuda-nvdisasm-11-0 cuda-nvml-dev-10-0 cuda-nvml-dev-11-0\n",
            "  cuda-nvprof-10-0 cuda-nvprof-10-1 cuda-nvprof-11-0 cuda-nvprune-10-0\n",
            "  cuda-nvprune-10-1 cuda-nvprune-11-0 cuda-nvrtc-11-0 cuda-nvrtc-dev-11-0\n",
            "  cuda-nvtx-10-0 cuda-nvtx-11-0 cuda-nvvp-10-0 cuda-nvvp-10-1 cuda-nvvp-11-0\n",
            "  cuda-sanitizer-11-0 cuda-sanitizer-api-10-1 cuda-visual-tools-10-0\n",
            "  cuda-visual-tools-10-1 cuda-visual-tools-11-0 default-jre freeglut3\n",
            "  freeglut3-dev g++-7 gfortran-7 keyboard-configuration libargon2-0 libbz2-dev\n",
            "  libcap2 libcryptsetup12 libcublas-11-0 libcublas-dev-11-0 libcufft-11-0\n",
            "  libcufft-dev-11-0 libcurand-11-0 libcurand-dev-11-0 libcusolver-11-0\n",
            "  libcusolver-dev-11-0 libcusparse-11-0 libcusparse-dev-11-0\n",
            "  libdevmapper1.02.1 libfontenc1 libgfortran-7-dev libgtk2.0-0\n",
            "  libgtk2.0-common libidn11 libip4tc0 libjansson4 libnpp-11-0 libnpp-dev-11-0\n",
            "  libnvidia-cfg1-450 libnvidia-common-450 libnvidia-decode-450\n",
            "  libnvidia-encode-450 libnvidia-extra-450 libnvidia-fbc1-450 libnvidia-gl-450\n",
            "  libnvidia-ifr1-450 libnvjpeg-11-0 libnvjpeg-dev-11-0 libpam-systemd\n",
            "  libpcre2-16-0 libpcre2-32-0 libpcre2-8-0 libpcre2-dev libpcre2-posix0\n",
            "  libpolkit-agent-1-0 libpolkit-backend-1-0 libpolkit-gobject-1-0\n",
            "  libreadline-dev libxfont2 libxi-dev libxkbfile1 libxmu-dev libxmu-headers\n",
            "  libxnvctrl0 nsight-compute-2020.1.1 nsight-systems-2020.3.2\n",
            "  nvidia-compute-utils-450 nvidia-kernel-common-450 nvidia-kernel-source-450\n",
            "  nvidia-modprobe nvidia-settings nvidia-utils-450 openjdk-11-jre policykit-1\n",
            "  policykit-1-gnome python3-xkit screen-resolution-extra systemd systemd-sysv\n",
            "  udev x11-xkb-utils xserver-common xserver-xorg-core-hwe-18.04\n",
            "  xserver-xorg-video-nvidia-450\n",
            "Use 'sudo apt autoremove' to remove them.\n",
            "The following additional packages will be installed:\n",
            "  cpp-4.8 gcc-4.8-base libasan0 libgcc-4.8-dev\n",
            "Suggested packages:\n",
            "  gcc-4.8-locales gcc-4.8-multilib gcc-4.8-doc libgcc1-dbg libgomp1-dbg\n",
            "  libitm1-dbg libatomic1-dbg libasan0-dbg libtsan0-dbg libquadmath0-dbg\n",
            "The following NEW packages will be installed:\n",
            "  cpp-4.8 gcc-4.8 gcc-4.8-base libasan0 libgcc-4.8-dev\n",
            "0 upgraded, 5 newly installed, 0 to remove and 40 not upgraded.\n",
            "Need to get 10.6 MB of archives.\n",
            "After this operation, 34.3 MB of additional disk space will be used.\n",
            "Get:1 http://archive.ubuntu.com/ubuntu bionic/universe amd64 gcc-4.8-base amd64 4.8.5-4ubuntu8 [15.8 kB]\n",
            "Get:2 http://archive.ubuntu.com/ubuntu bionic/universe amd64 cpp-4.8 amd64 4.8.5-4ubuntu8 [4,368 kB]\n",
            "Get:3 http://archive.ubuntu.com/ubuntu bionic/universe amd64 libasan0 amd64 4.8.5-4ubuntu8 [63.0 kB]\n",
            "Get:4 http://archive.ubuntu.com/ubuntu bionic/universe amd64 libgcc-4.8-dev amd64 4.8.5-4ubuntu8 [1,691 kB]\n",
            "Get:5 http://archive.ubuntu.com/ubuntu bionic/universe amd64 gcc-4.8 amd64 4.8.5-4ubuntu8 [4,510 kB]\n",
            "Fetched 10.6 MB in 1s (9,054 kB/s)\n",
            "debconf: unable to initialize frontend: Dialog\n",
            "debconf: (No usable dialog-like program is installed, so the dialog based frontend cannot be used. at /usr/share/perl5/Debconf/FrontEnd/Dialog.pm line 76, <> line 5.)\n",
            "debconf: falling back to frontend: Readline\n",
            "debconf: unable to initialize frontend: Readline\n",
            "debconf: (This frontend requires a controlling tty.)\n",
            "debconf: falling back to frontend: Teletype\n",
            "dpkg-preconfigure: unable to re-open stdin: \n",
            "Selecting previously unselected package gcc-4.8-base:amd64.\n",
            "(Reading database ... 132796 files and directories currently installed.)\n",
            "Preparing to unpack .../gcc-4.8-base_4.8.5-4ubuntu8_amd64.deb ...\n",
            "Unpacking gcc-4.8-base:amd64 (4.8.5-4ubuntu8) ...\n",
            "Selecting previously unselected package cpp-4.8.\n",
            "Preparing to unpack .../cpp-4.8_4.8.5-4ubuntu8_amd64.deb ...\n",
            "Unpacking cpp-4.8 (4.8.5-4ubuntu8) ...\n",
            "Selecting previously unselected package libasan0:amd64.\n",
            "Preparing to unpack .../libasan0_4.8.5-4ubuntu8_amd64.deb ...\n",
            "Unpacking libasan0:amd64 (4.8.5-4ubuntu8) ...\n",
            "Selecting previously unselected package libgcc-4.8-dev:amd64.\n",
            "Preparing to unpack .../libgcc-4.8-dev_4.8.5-4ubuntu8_amd64.deb ...\n",
            "Unpacking libgcc-4.8-dev:amd64 (4.8.5-4ubuntu8) ...\n",
            "Selecting previously unselected package gcc-4.8.\n",
            "Preparing to unpack .../gcc-4.8_4.8.5-4ubuntu8_amd64.deb ...\n",
            "Unpacking gcc-4.8 (4.8.5-4ubuntu8) ...\n",
            "Setting up gcc-4.8-base:amd64 (4.8.5-4ubuntu8) ...\n",
            "Setting up cpp-4.8 (4.8.5-4ubuntu8) ...\n",
            "Setting up libasan0:amd64 (4.8.5-4ubuntu8) ...\n",
            "Setting up libgcc-4.8-dev:amd64 (4.8.5-4ubuntu8) ...\n",
            "Setting up gcc-4.8 (4.8.5-4ubuntu8) ...\n",
            "Processing triggers for man-db (2.8.3-2ubuntu0.1) ...\n",
            "Processing triggers for libc-bin (2.27-3ubuntu1) ...\n",
            "/sbin/ldconfig.real: /usr/local/lib/python3.6/dist-packages/ideep4py/lib/libmkldnn.so.0 is not a symbolic link\n",
            "\n"
          ],
          "name": "stdout"
        }
      ]
    },
    {
      "cell_type": "code",
      "metadata": {
        "id": "hh1d_QtW6Uex",
        "colab_type": "code",
        "colab": {
          "base_uri": "https://localhost:8080/",
          "height": 680
        },
        "outputId": "0892ca79-2c6b-4f2c-d1e9-eaa06971bfaa"
      },
      "source": [
        "!sudo apt-get install gcc-4.8"
      ],
      "execution_count": 61,
      "outputs": [
        {
          "output_type": "stream",
          "text": [
            "Reading package lists... Done\n",
            "Building dependency tree       \n",
            "Reading state information... Done\n",
            "gcc-4.8 is already the newest version (4.8.5-4ubuntu8).\n",
            "The following packages were automatically installed and are no longer required:\n",
            "  cpp cuda-cudart-11-0 cuda-cudart-dev-11-0 cuda-cuobjdump-10-0\n",
            "  cuda-cuobjdump-10-1 cuda-cuobjdump-11-0 cuda-driver-dev-11-0 cuda-gdb-10-0\n",
            "  cuda-gdb-10-1 cuda-gdb-11-0 cuda-gpu-library-advisor-10-0\n",
            "  cuda-gpu-library-advisor-10-1 cuda-libraries-10-0 cuda-libraries-11-0\n",
            "  cuda-libraries-dev-11-0 cuda-memcheck-10-0 cuda-memcheck-10-1\n",
            "  cuda-memcheck-11-0 cuda-nsight-10-0 cuda-nsight-10-1 cuda-nsight-11-0\n",
            "  cuda-nsight-compute-10-0 cuda-nsight-compute-10-1 cuda-nsight-compute-11-0\n",
            "  cuda-nsight-systems-10-1 cuda-nsight-systems-11-0 cuda-nvdisasm-10-0\n",
            "  cuda-nvdisasm-10-1 cuda-nvdisasm-11-0 cuda-nvml-dev-10-0 cuda-nvml-dev-11-0\n",
            "  cuda-nvprof-10-0 cuda-nvprof-10-1 cuda-nvprof-11-0 cuda-nvprune-10-0\n",
            "  cuda-nvprune-10-1 cuda-nvprune-11-0 cuda-nvrtc-11-0 cuda-nvrtc-dev-11-0\n",
            "  cuda-nvtx-10-0 cuda-nvtx-11-0 cuda-nvvp-10-0 cuda-nvvp-10-1 cuda-nvvp-11-0\n",
            "  cuda-sanitizer-11-0 cuda-sanitizer-api-10-1 cuda-visual-tools-10-0\n",
            "  cuda-visual-tools-10-1 cuda-visual-tools-11-0 default-jre freeglut3\n",
            "  freeglut3-dev g++-7 gfortran-7 keyboard-configuration libargon2-0 libbz2-dev\n",
            "  libcap2 libcryptsetup12 libcublas-11-0 libcublas-dev-11-0 libcufft-11-0\n",
            "  libcufft-dev-11-0 libcurand-11-0 libcurand-dev-11-0 libcusolver-11-0\n",
            "  libcusolver-dev-11-0 libcusparse-11-0 libcusparse-dev-11-0\n",
            "  libdevmapper1.02.1 libfontenc1 libgfortran-7-dev libgtk2.0-0\n",
            "  libgtk2.0-common libidn11 libip4tc0 libjansson4 libnpp-11-0 libnpp-dev-11-0\n",
            "  libnvidia-cfg1-450 libnvidia-common-450 libnvidia-decode-450\n",
            "  libnvidia-encode-450 libnvidia-extra-450 libnvidia-fbc1-450 libnvidia-gl-450\n",
            "  libnvidia-ifr1-450 libnvjpeg-11-0 libnvjpeg-dev-11-0 libpam-systemd\n",
            "  libpcre2-16-0 libpcre2-32-0 libpcre2-8-0 libpcre2-dev libpcre2-posix0\n",
            "  libpolkit-agent-1-0 libpolkit-backend-1-0 libpolkit-gobject-1-0\n",
            "  libreadline-dev libxfont2 libxi-dev libxkbfile1 libxmu-dev libxmu-headers\n",
            "  libxnvctrl0 nsight-compute-2020.1.1 nsight-systems-2020.3.2\n",
            "  nvidia-compute-utils-450 nvidia-kernel-common-450 nvidia-kernel-source-450\n",
            "  nvidia-modprobe nvidia-settings nvidia-utils-450 openjdk-11-jre policykit-1\n",
            "  policykit-1-gnome python3-xkit screen-resolution-extra systemd systemd-sysv\n",
            "  udev x11-xkb-utils xserver-common xserver-xorg-core-hwe-18.04\n",
            "  xserver-xorg-video-nvidia-450\n",
            "Use 'sudo apt autoremove' to remove them.\n",
            "0 upgraded, 0 newly installed, 0 to remove and 40 not upgraded.\n"
          ],
          "name": "stdout"
        }
      ]
    },
    {
      "cell_type": "code",
      "metadata": {
        "id": "bjx2Hcy96wFc",
        "colab_type": "code",
        "colab": {}
      },
      "source": [
        "!ln -s /usr/bin/gcc-4.8 /usr/bin/gcc"
      ],
      "execution_count": 67,
      "outputs": []
    },
    {
      "cell_type": "code",
      "metadata": {
        "id": "_9YJ_rnb6fLC",
        "colab_type": "code",
        "colab": {
          "base_uri": "https://localhost:8080/",
          "height": 102
        },
        "outputId": "19756d5b-aec9-4e30-be3e-3305445f8c02"
      },
      "source": [
        "!gcc --version"
      ],
      "execution_count": 68,
      "outputs": [
        {
          "output_type": "stream",
          "text": [
            "gcc (Ubuntu 4.8.5-4ubuntu8) 4.8.5\n",
            "Copyright (C) 2015 Free Software Foundation, Inc.\n",
            "This is free software; see the source for copying conditions.  There is NO\n",
            "warranty; not even for MERCHANTABILITY or FITNESS FOR A PARTICULAR PURPOSE.\n",
            "\n"
          ],
          "name": "stdout"
        }
      ]
    },
    {
      "cell_type": "code",
      "metadata": {
        "id": "df_T0cK8dKSr",
        "colab_type": "code",
        "colab": {
          "base_uri": "https://localhost:8080/",
          "height": 935
        },
        "outputId": "03206999-da32-41db-b37e-1c139b8237e7"
      },
      "source": [
        "%cd /content/dynet-base/dynet/build/\n",
        "!make -j 8"
      ],
      "execution_count": 69,
      "outputs": [
        {
          "output_type": "stream",
          "text": [
            "/content/dynet-base/dynet/build\n",
            "[  1%] \u001b[34m\u001b[1mBuilding NVCC (Device) object dynet/CMakeFiles/dynet.dir/dynet_generated_gpu-ops.cu.o\u001b[0m\n",
            "[  2%] \u001b[34m\u001b[1mBuilding NVCC (Device) object dynet/CMakeFiles/dynet.dir/dynet_generated_gpu-merge0.cu.o\u001b[0m\n",
            "[  4%] \u001b[34m\u001b[1mBuilding NVCC (Device) object dynet/CMakeFiles/dynet.dir/dynet_generated_gpu-merge3.cu.o\u001b[0m\n",
            "[  5%] \u001b[34m\u001b[1mBuilding NVCC (Device) object dynet/CMakeFiles/dynet.dir/dynet_generated_cudnn-ops.cu.o\u001b[0m\n",
            "[  6%] \u001b[34m\u001b[1mBuilding NVCC (Device) object dynet/CMakeFiles/dynet.dir/dynet_generated_gpu-merge1.cu.o\u001b[0m\n",
            "[  8%] \u001b[34m\u001b[1mBuilding NVCC (Device) object dynet/CMakeFiles/dynet.dir/dynet_generated_gpu-merge2.cu.o\u001b[0m\n",
            "CMake Error at dynet_generated_cudnn-ops.cu.o.Release.cmake:215 (message):\n",
            "  Error generating\n",
            "  /content/dynet-base/dynet/build/dynet/CMakeFiles/dynet.dir//./dynet_generated_cudnn-ops.cu.o\n",
            "\n",
            "\n",
            "dynet/CMakeFiles/dynet.dir/build.make:63: recipe for target 'dynet/CMakeFiles/dynet.dir/dynet_generated_cudnn-ops.cu.o' failed\n",
            "make[2]: *** [dynet/CMakeFiles/dynet.dir/dynet_generated_cudnn-ops.cu.o] Error 1\n",
            "make[2]: *** Waiting for unfinished jobs....\n",
            "CMake Error at dynet_generated_gpu-merge3.cu.o.Release.cmake:215 (message):\n",
            "  Error generating\n",
            "  /content/dynet-base/dynet/build/dynet/CMakeFiles/dynet.dir//./dynet_generated_gpu-merge3.cu.o\n",
            "\n",
            "\n",
            "dynet/CMakeFiles/dynet.dir/build.make:98: recipe for target 'dynet/CMakeFiles/dynet.dir/dynet_generated_gpu-merge3.cu.o' failed\n",
            "make[2]: *** [dynet/CMakeFiles/dynet.dir/dynet_generated_gpu-merge3.cu.o] Error 1\n",
            "CMake Error at dynet_generated_gpu-ops.cu.o.Release.cmake:215 (message):\n",
            "  Error generating\n",
            "  /content/dynet-base/dynet/build/dynet/CMakeFiles/dynet.dir//./dynet_generated_gpu-ops.cu.o\n",
            "\n",
            "\n",
            "dynet/CMakeFiles/dynet.dir/build.make:70: recipe for target 'dynet/CMakeFiles/dynet.dir/dynet_generated_gpu-ops.cu.o' failed\n",
            "make[2]: *** [dynet/CMakeFiles/dynet.dir/dynet_generated_gpu-ops.cu.o] Error 1\n",
            "CMake Error at dynet_generated_gpu-merge0.cu.o.Release.cmake:215 (message):\n",
            "  Error generating\n",
            "  /content/dynet-base/dynet/build/dynet/CMakeFiles/dynet.dir//./dynet_generated_gpu-merge0.cu.o\n",
            "\n",
            "\n",
            "CMake Error at dynet_generated_gpu-merge1.cu.o.Release.cmake:215 (message):\n",
            "  Error generating\n",
            "  /content/dynet-base/dynet/build/dynet/CMakeFiles/dynet.dir//./dynet_generated_gpu-merge1.cu.o\n",
            "\n",
            "\n",
            "dynet/CMakeFiles/dynet.dir/build.make:84: recipe for target 'dynet/CMakeFiles/dynet.dir/dynet_generated_gpu-merge1.cu.o' failed\n",
            "make[2]: *** [dynet/CMakeFiles/dynet.dir/dynet_generated_gpu-merge1.cu.o] Error 1\n",
            "dynet/CMakeFiles/dynet.dir/build.make:77: recipe for target 'dynet/CMakeFiles/dynet.dir/dynet_generated_gpu-merge0.cu.o' failed\n",
            "make[2]: *** [dynet/CMakeFiles/dynet.dir/dynet_generated_gpu-merge0.cu.o] Error 1\n",
            "CMake Error at dynet_generated_gpu-merge2.cu.o.Release.cmake:215 (message):\n",
            "  Error generating\n",
            "  /content/dynet-base/dynet/build/dynet/CMakeFiles/dynet.dir//./dynet_generated_gpu-merge2.cu.o\n",
            "\n",
            "\n",
            "dynet/CMakeFiles/dynet.dir/build.make:91: recipe for target 'dynet/CMakeFiles/dynet.dir/dynet_generated_gpu-merge2.cu.o' failed\n",
            "make[2]: *** [dynet/CMakeFiles/dynet.dir/dynet_generated_gpu-merge2.cu.o] Error 1\n",
            "CMakeFiles/Makefile2:90: recipe for target 'dynet/CMakeFiles/dynet.dir/all' failed\n",
            "make[1]: *** [dynet/CMakeFiles/dynet.dir/all] Error 2\n",
            "Makefile:129: recipe for target 'all' failed\n",
            "make: *** [all] Error 2\n"
          ],
          "name": "stdout"
        }
      ]
    },
    {
      "cell_type": "code",
      "metadata": {
        "id": "Qq2p4nnkdXLO",
        "colab_type": "code",
        "colab": {}
      },
      "source": [
        "%cd python\n",
        "!python ../../setup.py build --build-dir=.. --skip-build install"
      ],
      "execution_count": null,
      "outputs": []
    },
    {
      "cell_type": "code",
      "metadata": {
        "id": "PCJwwZmwMnPB",
        "colab_type": "code",
        "colab": {
          "base_uri": "https://localhost:8080/",
          "height": 333
        },
        "outputId": "b1eda6a1-be48-4f01-ab1c-797503bd0ee3"
      },
      "source": [
        "import dynet_config\n",
        "dynet_config.set_gpu()\n",
        "import dynet"
      ],
      "execution_count": 43,
      "outputs": [
        {
          "output_type": "error",
          "ename": "ImportError",
          "evalue": "ignored",
          "traceback": [
            "\u001b[0;31m\u001b[0m",
            "\u001b[0;31mImportError\u001b[0mTraceback (most recent call last)",
            "\u001b[0;32m<ipython-input-43-556455f0c298>\u001b[0m in \u001b[0;36m<module>\u001b[0;34m()\u001b[0m\n\u001b[0;32m----> 1\u001b[0;31m \u001b[0;32mimport\u001b[0m \u001b[0mdynet_config\u001b[0m\u001b[0;34m\u001b[0m\u001b[0m\n\u001b[0m\u001b[1;32m      2\u001b[0m \u001b[0mdynet_config\u001b[0m\u001b[0;34m.\u001b[0m\u001b[0mset_gpu\u001b[0m\u001b[0;34m(\u001b[0m\u001b[0;34m)\u001b[0m\u001b[0;34m\u001b[0m\u001b[0m\n\u001b[1;32m      3\u001b[0m \u001b[0;32mimport\u001b[0m \u001b[0mdynet\u001b[0m\u001b[0;34m\u001b[0m\u001b[0m\n",
            "\u001b[0;31mImportError\u001b[0m: No module named dynet_config",
            "",
            "\u001b[0;31m---------------------------------------------------------------------------\u001b[0;32m\nNOTE: If your import is failing due to a missing package, you can\nmanually install dependencies using either !pip or !apt.\n\nTo view examples of installing some common dependencies, click the\n\"Open Examples\" button below.\n\u001b[0;31m---------------------------------------------------------------------------\u001b[0m\n"
          ]
        }
      ]
    },
    {
      "cell_type": "code",
      "metadata": {
        "id": "5akP7bH-kbcc",
        "colab_type": "code",
        "colab": {
          "base_uri": "https://localhost:8080/",
          "height": 88
        },
        "outputId": "3e18a9e6-a5f3-42c7-c219-9ff37b6cbba1"
      },
      "source": [
        "!pip install git+https://github.com/clab/dynet#egg=dynet"
      ],
      "execution_count": 21,
      "outputs": [
        {
          "output_type": "stream",
          "text": [
            "Requirement already satisfied: dynet from git+https://github.com/clab/dynet#egg=dynet in /usr/local/lib/python2.7/dist-packages (0.0.0)\n",
            "Requirement already satisfied: numpy in /usr/local/lib/python2.7/dist-packages (from dynet) (1.16.4)\n",
            "Requirement already satisfied: cython in /usr/local/lib/python2.7/dist-packages (from dynet) (0.29.12)\n"
          ],
          "name": "stdout"
        }
      ]
    },
    {
      "cell_type": "code",
      "metadata": {
        "id": "QVjXERXTk-BB",
        "colab_type": "code",
        "colab": {}
      },
      "source": [
        "!wget https://developer.nvidia.com/compute/cuda/9.2/Prod/local_installers/cuda-repo-ubuntu1604-9-2-local_9.2.88-1_AMD64 -O cuda-repo-ubuntu1604-9-2-local_9.2.88-1_AMD64.deb \n",
        "!dpkg -i cuda-repo-ubuntu1604-9-2-local_9.2.88-1_AMD64.deb \n",
        "!apt-key add /var/cuda-repo-9-2-local/7fa2af80.pub \n",
        "!apt-get update \n",
        "!apt-get install cuda"
      ],
      "execution_count": null,
      "outputs": []
    },
    {
      "cell_type": "code",
      "metadata": {
        "id": "6xRMLz4dyF0I",
        "colab_type": "code",
        "colab": {}
      },
      "source": [
        "!python -m sesame.targetid --mode train --model_name pretrained_colab_targetid"
      ],
      "execution_count": null,
      "outputs": []
    },
    {
      "cell_type": "code",
      "metadata": {
        "id": "gtwh3rLeyIif",
        "colab_type": "code",
        "colab": {}
      },
      "source": [
        "!python -m sesame.frameid --mode train --model_name pretrained_colab_frameid"
      ],
      "execution_count": null,
      "outputs": []
    },
    {
      "cell_type": "code",
      "metadata": {
        "id": "ICVJaCycyI3Q",
        "colab_type": "code",
        "colab": {
          "base_uri": "https://localhost:8080/",
          "height": 170
        },
        "outputId": "8bd0c68e-102f-473a-a6cd-3013aaf7d19c"
      },
      "source": [
        "%cd /content/open-sesame/\n",
        "!python -m sesame.argid --mode train --model_name pretrained_colab_argid --dynet-gpu"
      ],
      "execution_count": 42,
      "outputs": [
        {
          "output_type": "stream",
          "text": [
            "/content/open-sesame\n",
            "Traceback (most recent call last):\n",
            "  File \"/usr/lib/python2.7/runpy.py\", line 174, in _run_module_as_main\n",
            "    \"__main__\", fname, loader, pkg_name)\n",
            "  File \"/usr/lib/python2.7/runpy.py\", line 72, in _run_code\n",
            "    exec code in run_globals\n",
            "  File \"/content/open-sesame/sesame/argid.py\", line 7, in <module>\n",
            "    from dynet import *\n",
            "ImportError: No module named dynet\n"
          ],
          "name": "stdout"
        }
      ]
    },
    {
      "cell_type": "code",
      "metadata": {
        "id": "8RIXB0H-g1i8",
        "colab_type": "code",
        "colab": {
          "base_uri": "https://localhost:8080/",
          "height": 1000
        },
        "outputId": "c6c5af71-eb12-4a4d-9535-26fc68107d17"
      },
      "source": [
        "!python -m sesame.argid --mode train --model_name pretrained_colab_argid"
      ],
      "execution_count": 20,
      "outputs": [
        {
          "output_type": "stream",
          "text": [
            "[dynet] random seed: 2154118563\n",
            "[dynet] allocating memory: 512MB\n",
            "[dynet] memory allocation done.\n",
            "DATA_DIRECTORY:\t../drive/My Drive/Colab Notebooks/data_training_opensesame/\n",
            "DEBUG_MODE:\tFalse\n",
            "EMBEDDINGS_FILE:\t../drive/My Drive/Colab Notebooks/data_training_opensesame/glove.6B.100d.txt\n",
            "VERSION:\t1.7\n",
            "_____________________\n",
            "COMMAND: /content/open-sesame/sesame/argid.py --mode train --model_name pretrained_colab_argid\n",
            "VALIDATED MODEL SAVED TO:\tlogs/pretrained_colab_argid/best-argid-1.7-model\n",
            "PARSING MODE:\ttrain\n",
            "_____________________\n",
            "\n",
            "\n",
            "Reading ../drive/My Drive/Colab Notebooks/data_training_opensesame/neural/fn1.7/fn1.7.fulltext.train.syntaxnet.conll ...\n",
            "# examples in ../drive/My Drive/Colab Notebooks/data_training_opensesame/neural/fn1.7/fn1.7.fulltext.train.syntaxnet.conll : 19391 in 3413 sents\n",
            "# examples with missing arguments : 526\n",
            "\n",
            "Reading the frame-element - frame map from ../drive/My Drive/Colab Notebooks/data_training_opensesame/fndata-1.7/frame/ ...\n",
            "Max! 32 frame-elements for frame: Traversing\n",
            "\n",
            "\n",
            "Reading pretrained embeddings from ../drive/My Drive/Colab Notebooks/data_training_opensesame/glove.6B.100d.txt ...\n",
            "\n",
            "Reading ../drive/My Drive/Colab Notebooks/data_training_opensesame/neural/fn1.7/fn1.7.dev.syntaxnet.conll ...\n",
            "# examples in ../drive/My Drive/Colab Notebooks/data_training_opensesame/neural/fn1.7/fn1.7.dev.syntaxnet.conll : 2272 in 326 sents\n",
            "# examples with missing arguments : 73\n",
            "\n",
            "clipping spans longer than 20...\n",
            "longest span size: 102\n",
            "longest FE span size: 89\n",
            "# train examples before filter: 19391\n",
            "# train examples after filter: 19391\n",
            "\n",
            "\n",
            "PARSER SETTINGS (see logs/pretrained_colab_argid/configuration.json)\n",
            "_____________________\n",
            "ALLOWED_MAX_SPAN_LENGTH:\t20\n",
            "COST_TYPE:\trecall\n",
            "DEPENDENCY_RELATION_DIM:\t8\n",
            "DEV_EVAL_EPOCH_FREQUENCY:\t5\n",
            "DROPOUT_RATE:\t0.01\n",
            "EVAL_AFTER_EVERY_EPOCHS:\t100\n",
            "FE_DIM:\t50\n",
            "FRAME_DIM:\t100\n",
            "HIDDEN_DIM:\t64\n",
            "LOSS_TYPE:\tsoftmaxm\n",
            "LSTM_DEPTH:\t1\n",
            "LSTM_DIM:\t64\n",
            "LSTM_INPUT_DIM:\t64\n",
            "LU_DIM:\t64\n",
            "LU_POS_DIM:\t2\n",
            "NUM_EPOCHS:\t10\n",
            "PATH_DIM:\t64\n",
            "PATH_LSTM_DIM:\t64\n",
            "PATIENCE:\t3\n",
            "PHRASE_DIM:\t16\n",
            "POS_DIM:\t4\n",
            "PRETRAINED_EMBEDDING_DIM:\t100\n",
            "RECALL_ORIENTED_COST:\t2\n",
            "TOKEN_DIM:\t60\n",
            "TRAIN:\t../drive/My Drive/Colab Notebooks/data_training_opensesame/neural/fn1.7/fn1.7.fulltext.train.syntaxnet.conll\n",
            "UNK_PROB:\t0.1\n",
            "USE_DROPOUT:\tTrue\n",
            "USE_EXEMPLAR:\tFalse\n",
            "USE_HIERARCHY:\tFalse\n",
            "USE_SPAN_CLIP:\tTrue\n",
            "USING_CONSTITUENCY_PARSES:\tFalse\n",
            "USING_DEPENDENCY_PARSES:\tFalse\n",
            "USING_SCAFFOLD_LOSS:\tFalse\n",
            "\n",
            "# Tokens = 400574\n",
            "\tUnseen in dev/test = 45\n",
            "\tUnlearnt in dev/test = 390569\n",
            "# POS tags = 45\n",
            "\tUnseen in dev/test = 0\n",
            "\tUnlearnt in dev/test = 1\n",
            "# LUs = 9441\n",
            "\tUnseen in dev/test = 0\n",
            "\tUnlearnt in dev/test = 6444\n",
            "# LU POS tags = 14\n",
            "\tUnseen in dev/test = 0\n",
            "\tUnlearnt in dev/test = 3\n",
            "# Frames = 1223\n",
            "\tUnseen in dev/test = 0\n",
            "\tUnlearnt in dev/test = 469\n",
            "# FEs = 1287\n",
            "\tUnseen in dev/test = 0\n",
            "\tUnlearnt in dev/test = 521\n",
            "# Constit Labels = 1\n",
            "\tUnseen in dev/test = 0\n",
            "\tUnlearnt in dev/test = 1\n",
            "# Dependency Relations = 1\n",
            "\tUnseen in dev/test = 0\n",
            "\tUnlearnt in dev/test = 1\n",
            "\n",
            "_____________________\n",
            "\n",
            "[lr=0.0005 clips=99 updates=100] epoch=0.100 loss=28.8572 [took 29.904s]\n",
            "[lr=0.0005 clips=100 updates=100] epoch=0.200 loss=24.6224 [took 25.075s]\n",
            "[lr=0.0005 clips=100 updates=100] epoch=0.300 loss=22.4691 [took 28.893s]\n",
            "[lr=0.0005 clips=100 updates=100] epoch=0.400 loss=21.1590 [took 22.317s]\n",
            "[lr=0.0005 clips=100 updates=100] epoch=0.500 loss=20.6195 [took 24.619s]\n",
            "[dev epoch=0.501] wprec = 0.00000 wrec = 0.00000 wf1 = 0.00000\n",
            "[dev epoch=0.501] uprec = 0.00000 urec = 0.00000 uf1 = 0.00000\n",
            "[dev epoch=0.501] lprec = 0.00000 lrec = 0.00000 lf1 = 0.00000 [took 344.079s]\n",
            "Traceback (most recent call last):\n",
            "  File \"/usr/lib/python2.7/runpy.py\", line 174, in _run_module_as_main\n",
            "    \"__main__\", fname, loader, pkg_name)\n",
            "  File \"/usr/lib/python2.7/runpy.py\", line 72, in _run_code\n",
            "    exec code in run_globals\n",
            "  File \"/content/open-sesame/sesame/argid.py\", line 924, in <module>\n",
            "    goldfes=trex.invertedfes)\n",
            "  File \"/content/open-sesame/sesame/argid.py\", line 810, in identify_fes\n",
            "    factor_exprs = get_factor_expressions(fws, bws, tfemb, tfdict, valid_fes, sentence)\n",
            "  File \"/content/open-sesame/sesame/argid.py\", line 489, in get_factor_expressions\n",
            "    fefixed = fe_x[y]\n",
            "KeyboardInterrupt\n",
            "^C\n"
          ],
          "name": "stdout"
        }
      ]
    }
  ]
}